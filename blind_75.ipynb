{
 "cells": [
  {
   "cell_type": "markdown",
   "metadata": {},
   "source": [
    "# Blind 75"
   ]
  },
  {
   "cell_type": "markdown",
   "metadata": {},
   "source": [
    "## Arrays"
   ]
  },
  {
   "cell_type": "markdown",
   "metadata": {},
   "source": [
    "### [Two Sum](https://leetcode.com/problems/two-sum/) <a name=\"two_sum\"></a>"
   ]
  },
  {
   "cell_type": "code",
   "execution_count": 38,
   "metadata": {},
   "outputs": [],
   "source": [
    "from typing import List\n",
    "def twoSum(nums: List[int], target: int) -> List[int]:\n",
    "    compliments : dict = {} # num : index of num\n",
    "    for index, num in enumerate(nums):\n",
    "        compliment : int = target - num \n",
    "        # if the compliment/different is in the dict than we've already seen i before\n",
    "        if compliment in compliments:\n",
    "            return [compliments[compliment], index]\n",
    "        # add the num to the dict for future lookup \n",
    "        compliments[num] = index\n",
    "    return []"
   ]
  },
  {
   "cell_type": "code",
   "execution_count": 39,
   "metadata": {},
   "outputs": [
    {
     "data": {
      "text/plain": [
       "[0, 1]"
      ]
     },
     "execution_count": 39,
     "metadata": {},
     "output_type": "execute_result"
    }
   ],
   "source": [
    "twoSum(nums = [2,7,11,15], target = 9)"
   ]
  },
  {
   "cell_type": "markdown",
   "metadata": {},
   "source": [
    "### [Best Time to Buy and Sell Stock](https://leetcode.com/problems/best-time-to-buy-and-sell-stock/) <a name=\"best_time_to_buy_and_sell_stock\"></a>"
   ]
  },
  {
   "cell_type": "code",
   "execution_count": 40,
   "metadata": {},
   "outputs": [],
   "source": [
    "from typing import List\n",
    "from sys import maxsize\n",
    "def maxProfit(prices: List[int]):\n",
    "    # default to zero for when no profit is found.\n",
    "    max_profit = 0\n",
    "    min_price = maxsize\n",
    "    for current_price in prices:\n",
    "        # if the current price is smaller than the min price let's take it. \n",
    "        min_price = min(min_price,current_price)\n",
    "        # compare the profit (current_price-min_price) to the current max profit.\n",
    "        # each price after on (with no consequence) and after min is calcuated.\n",
    "        if current_price - min_price > max_profit:\n",
    "            max_profit = max(max_profit, current_price-min_price)\n",
    "    return max_profit\n"
   ]
  },
  {
   "cell_type": "code",
   "execution_count": 41,
   "metadata": {},
   "outputs": [
    {
     "data": {
      "text/plain": [
       "5"
      ]
     },
     "execution_count": 41,
     "metadata": {},
     "output_type": "execute_result"
    }
   ],
   "source": [
    "maxProfit([7,1,5,3,6,4])"
   ]
  },
  {
   "cell_type": "markdown",
   "metadata": {},
   "source": [
    "### [Contains Duplicate](https://leetcode.com/problems/contains-duplicate/)"
   ]
  },
  {
   "cell_type": "code",
   "execution_count": 42,
   "metadata": {},
   "outputs": [],
   "source": [
    "from typing import List\n",
    "def containsDuplicate(nums: List[int]) -> bool:\n",
    "    duplicates: set = set()\n",
    "\n",
    "    for num in nums:\n",
    "        if num in duplicates:\n",
    "            return True\n",
    "        duplicates.add(num)\n",
    "    \n",
    "    return False"
   ]
  },
  {
   "cell_type": "code",
   "execution_count": 43,
   "metadata": {},
   "outputs": [
    {
     "data": {
      "text/plain": [
       "True"
      ]
     },
     "execution_count": 43,
     "metadata": {},
     "output_type": "execute_result"
    }
   ],
   "source": [
    "containsDuplicate([1,1,1,3,3,4,3,2,4,2])"
   ]
  },
  {
   "cell_type": "markdown",
   "metadata": {},
   "source": [
    "### [Product of Array Except Self](https://leetcode.com/problems/product-of-array-except-self/)"
   ]
  },
  {
   "cell_type": "code",
   "execution_count": 47,
   "metadata": {},
   "outputs": [],
   "source": [
    "from typing import List\n",
    "def productExceptSelf(nums: List[int]) -> List[int]:\n",
    "    nums_product : int = 1 # product of list without zeros\n",
    "    num_of_zeroes : int = 0\n",
    "    no_zero: bool = True\n",
    "    some_zero : bool = False\n",
    "    all_zero: bool = True\n",
    "    ans : list = []\n",
    "    for num in nums:\n",
    "        if num == 0:\n",
    "            no_zero = False\n",
    "            some_zero = True\n",
    "            num_of_zeroes += 1\n",
    "        elif num != 0:\n",
    "            all_zero = False\n",
    "            nums_product *= num\n",
    "    for num in nums:\n",
    "        if all_zero:\n",
    "            ans.append(0)\n",
    "        elif no_zero:\n",
    "            ans.append(nums_product//num)\n",
    "        elif some_zero:\n",
    "            if num == 0:\n",
    "                if num_of_zeroes > 1:\n",
    "                    ans.append(0)\n",
    "                else:\n",
    "                    ans.append(nums_product)\n",
    "            else:\n",
    "                ans.append(0)\n",
    "    return ans"
   ]
  },
  {
   "cell_type": "code",
   "execution_count": 84,
   "metadata": {},
   "outputs": [],
   "source": [
    "from typing import List\n",
    "def productExceptSelf(nums: List[int]) -> List[int]:\n",
    "\n",
    "    # left, right product lists & answer list\n",
    "    left, right, ans = [None] * len(nums), [None] * len(nums), [None] * len(nums)\n",
    "    \n",
    "    # Left[i] contains the product of all the elements to the left\n",
    "    # Note: for the element at index '0', there are no elements to the left,\n",
    "    # so the Left[0] would be 1\n",
    "    left[0] = 1\n",
    "    for index in range(1, len(nums)):\n",
    "\n",
    "        # Left[i - 1] already contains the product of elements to the left of 'i - 1'\n",
    "        # Simply multiplying it with nums[i - 1] would give the product of all \n",
    "        # elements to the left of index 'i'\n",
    "        left[index] = nums[index-1] *  left[index-1]\n",
    "\n",
    "    # Right[i] contains the product of all the elements to the right\n",
    "    # Note: for the element at index 'length - 1', there are no elements to the right,\n",
    "    # so the Right[length - 1] would be 1\n",
    "    right[len(nums)-1] = 1\n",
    "    for index in range(len(nums)-2, -1, -1):\n",
    "\n",
    "        # Right[i + 1] already contains the product of elements to the right of 'i + 1'\n",
    "        # Simply multiplying it with nums[i + 1] would give the product of all \n",
    "        # elements to the right of index 'i'\n",
    "        right[index] = nums[index+1] * right[index+1]\n",
    "    \n",
    "    # Constructing the answer array\n",
    "    for index in range(len(nums)):\n",
    "        # For the first element, R[i] would be product except self\n",
    "        # For the last element of the array, product except self would be L[i]\n",
    "        # Else, multiple product of all elements to the left and to the right\n",
    "        ans[index] = left[index] * right[index]\n",
    "    \n",
    "    return ans"
   ]
  },
  {
   "cell_type": "code",
   "execution_count": 85,
   "metadata": {},
   "outputs": [
    {
     "data": {
      "text/plain": [
       "[80, 64, 320, 40, 160]"
      ]
     },
     "execution_count": 85,
     "metadata": {},
     "output_type": "execute_result"
    }
   ],
   "source": [
    "productExceptSelf([4,5,1,8,2])"
   ]
  },
  {
   "cell_type": "markdown",
   "metadata": {},
   "source": [
    "### [Maxiumum Subarray](https://leetcode.com/problems/maximum-subarray/)"
   ]
  },
  {
   "cell_type": "code",
   "execution_count": 90,
   "metadata": {},
   "outputs": [],
   "source": [
    "from typing import List\n",
    "def maxSubArray(nums: List[int]) -> int:\n",
    "    # inf initilization disallows empty subarrays\n",
    "    best_sum: float = float('-inf')\n",
    "    # to keep track of sum as we loop\n",
    "    current_sum: int = 0\n",
    "    for num in nums:\n",
    "        # by using max we reset current sum to either the current number or current_sum + num if current_sum + current number > current number\n",
    "        current_sum = max(num, current_sum + num)\n",
    "        # store whatever the best current_sum was duirng the loop.\n",
    "        # having an -inf value ensures at least 1 value from the list is used\n",
    "        best_sum = max(best_sum, current_sum)\n",
    "    return best_sum"
   ]
  },
  {
   "cell_type": "code",
   "execution_count": 91,
   "metadata": {},
   "outputs": [
    {
     "data": {
      "text/plain": [
       "6"
      ]
     },
     "execution_count": 91,
     "metadata": {},
     "output_type": "execute_result"
    }
   ],
   "source": [
    "maxSubArray([-2,1,-3,4,-1,2,1,-5,4])"
   ]
  },
  {
   "cell_type": "markdown",
   "metadata": {},
   "source": [
    "### [Maximum Product Subarray](https://leetcode.com/problems/maximum-product-subarray/)"
   ]
  },
  {
   "cell_type": "code",
   "execution_count": 115,
   "metadata": {},
   "outputs": [],
   "source": [
    "from typing import List\n",
    "def maxProduct(nums: List[int]) -> int:\n",
    "    # keeps track of the max product\n",
    "    current_max_product: int = nums[0]\n",
    "    # keeps track of the min product\n",
    "    current_min_product: int = nums[0]\n",
    "    best_product: float = current_max_product\n",
    "    for index in range(1,len(nums)):\n",
    "        # get max between:\n",
    "        # current number:\n",
    "            # This value will be picked if the accumulated product \n",
    "            # has been really bad (even compared to the current number). \n",
    "            # This can happen when the current number has a preceding zero \n",
    "            # (e.g. [0,4]) or is preceded by a single negative number \n",
    "            # (e.g. [-3,5]).\n",
    "        # current max times current number:\n",
    "            # This value will be picked if the accumulated product \n",
    "            # has been steadily increasing (all positive numbers).\n",
    "        # and current min times current number\n",
    "            # This value will be picked if the current number \n",
    "            # is a negative number and the combo chain has been \n",
    "            # disrupted by a single negative number before \n",
    "            # (In a sense, this value is like an antidote to an already \n",
    "            # poisoned combo chain).\n",
    "        temp_max : int = max(nums[index], current_max_product * nums[index], current_min_product * nums[index])\n",
    "        # same logic but were getting the min to save the computation if we hit a negative number\n",
    "        current_min_product = min(nums[index], current_max_product * nums[index], current_min_product * nums[index])\n",
    "\n",
    "        current_max_product = temp_max\n",
    "\n",
    "        best_product = max(best_product, current_max_product)\n",
    "    return best_product"
   ]
  },
  {
   "cell_type": "code",
   "execution_count": 116,
   "metadata": {},
   "outputs": [
    {
     "data": {
      "text/plain": [
       "24"
      ]
     },
     "execution_count": 116,
     "metadata": {},
     "output_type": "execute_result"
    }
   ],
   "source": [
    "maxProduct([-2,3,-4])"
   ]
  },
  {
   "cell_type": "markdown",
   "metadata": {},
   "source": [
    "### [Find Minimum in Rotated Sorted Array](https://leetcode.com/problems/find-minimum-in-rotated-sorted-array/)"
   ]
  },
  {
   "cell_type": "code",
   "execution_count": 124,
   "metadata": {},
   "outputs": [],
   "source": [
    "from typing import List\n",
    "def findMin(nums: List[int]) -> int:\n",
    "\n",
    "    if len(nums) == 1: return nums[0]\n",
    "\n",
    "    left, right = 0, len(nums)-1\n",
    "\n",
    "    if nums[left] < nums[right]:\n",
    "        return nums[0]\n",
    "        # we can perform normal binary search for\n",
    "    else: # we need to find the inflection point\n",
    "        while right >= left:\n",
    "            mid : int = left + (right-left) // 2\n",
    "            if nums[mid] > nums[mid+1]: # look for inflection point right of mid\n",
    "                return nums[mid+1]\n",
    "            if nums[mid-1] > nums[mid]: # we need to look for inflection point left of mid\n",
    "                return nums[mid]\n",
    "            if nums[mid] > nums[0]:\n",
    "                left = mid + 1\n",
    "            else:\n",
    "                right = mid - 1\n",
    "    return -1"
   ]
  },
  {
   "cell_type": "code",
   "execution_count": 125,
   "metadata": {},
   "outputs": [
    {
     "data": {
      "text/plain": [
       "1"
      ]
     },
     "execution_count": 125,
     "metadata": {},
     "output_type": "execute_result"
    }
   ],
   "source": [
    "findMin([3,4,5,1,2])"
   ]
  },
  {
   "cell_type": "markdown",
   "metadata": {},
   "source": [
    "### [Search in Rotated Sorted Array](https://leetcode.com/problems/search-in-rotated-sorted-array/)"
   ]
  },
  {
   "cell_type": "code",
   "execution_count": null,
   "metadata": {},
   "outputs": [],
   "source": [
    "# <!-- TODO: Not Done. -->\n",
    "from typing import List\n",
    "def search(nums: List[int], target: int) -> int:\n",
    "\n",
    "    if len(nums) == 1:\n",
    "        return nums[0] if nums[0] == target else -1\n",
    "\n",
    "    left, right = 0, len(nums)-1\n",
    "\n",
    "\n",
    "    if nums[left] < nums[right]: # no displacement, can do ordinary binary search\n",
    "        while right >= left: \n",
    "            mid : int = left + (right-left) // 2\n",
    "            if nums[mid] == target:\n",
    "                return mid\n",
    "            elif nums[mid] > target:\n",
    "                right = mid - 1\n",
    "            elif nums[mid] < target:\n",
    "                left = mid + 1\n",
    "    else:\n",
    "        while right >= left:\n",
    "            mid : int = left + (right-left) // 2\n",
    "            if nums[mid] > nums[mid+1]: # look for inflection point right of mid\n",
    "                return nums[mid+1]\n",
    "            if nums[mid-1] > nums[mid]: # we need to look for inflection point left of mid\n",
    "                return nums[mid]\n",
    "            if nums[mid] > nums[0]:\n",
    "                left = mid + 1\n",
    "            else:\n",
    "                right = mid - 1\n",
    "\n",
    "    return -1"
   ]
  },
  {
   "cell_type": "code",
   "execution_count": null,
   "metadata": {},
   "outputs": [],
   "source": [
    "[7,1,2,3,4,5,6]"
   ]
  },
  {
   "cell_type": "markdown",
   "metadata": {},
   "source": [
    "### How Out of Order (Inversion)\n",
    "\n",
    "Determine how \"out of order\" a list is by writing a function that returns the number of inversions in that list.\n",
    "\n",
    "Two elements of a list L, L[i] and L[j], form an inversion if L[i] < L[j] but i > j."
   ]
  },
  {
   "cell_type": "code",
   "execution_count": 232,
   "metadata": {},
   "outputs": [],
   "source": [
    "from typing import Tuple\n",
    "def merge(left: list, right: list, inversion_count: int) -> Tuple[list, int]:\n",
    "    leftIndex: int = 0\n",
    "    rightIndex : int = 0\n",
    "    orderedList : list = []\n",
    "\n",
    "    while True:\n",
    "        if leftIndex > len(left) - 1:\n",
    "            orderedList.extend(right[rightIndex:])\n",
    "            break\n",
    "        if rightIndex > len(right)-1:\n",
    "            orderedList.extend(left[leftIndex:])\n",
    "            break\n",
    "        if left[leftIndex] < right[rightIndex]:\n",
    "            orderedList.append(left[leftIndex])\n",
    "            leftIndex+=1\n",
    "        else:\n",
    "            orderedList.append(right[rightIndex])\n",
    "            rightIndex+=1\n",
    "            inversion_count += 1\n",
    "    return orderedList, inversion_count"
   ]
  },
  {
   "cell_type": "code",
   "execution_count": 240,
   "metadata": {},
   "outputs": [],
   "source": [
    "from typing import Tuple\n",
    "def inversions(A: list) -> Tuple[list, int]:\n",
    "    def mergeSort(A: list, inversion_count) ->  Tuple[list, int]:\n",
    "        if len(A) == 1: return A, inversion_count\n",
    "\n",
    "        middleIndex = len(A) // 2\n",
    "        left, inversion_count = mergeSort(A[0:middleIndex], inversion_count)\n",
    "        right, inversion_count = mergeSort(A[middleIndex:len(A)], inversion_count)\n",
    "\n",
    "        return merge(left, right, inversion_count)\n",
    "    sortedList, inversion_count = mergeSort(A, 0)\n",
    "    return sortedList, inversion_count"
   ]
  },
  {
   "cell_type": "code",
   "execution_count": 242,
   "metadata": {},
   "outputs": [
    {
     "data": {
      "text/plain": [
       "([1, 2, 3, 4, 5], 2)"
      ]
     },
     "execution_count": 242,
     "metadata": {},
     "output_type": "execute_result"
    }
   ],
   "source": [
    "inversions([2, 4, 1, 3, 5])"
   ]
  },
  {
   "cell_type": "code",
   "execution_count": 284,
   "metadata": {},
   "outputs": [],
   "source": [
    "from typing import Tuple, Callable\n",
    "# FIXME: Not Working! Fix!\n",
    "def mergeSortBottomUp(a: list, isOrderBefore: Callable[[int, int], bool]):\n",
    "    n : int = len(a)\n",
    "    b, c = a.copy(), a.copy()\n",
    "    z = [b,c]\n",
    "    d : int = 0\n",
    "    inflection: int = 0\n",
    "\n",
    "    width : int = 1\n",
    "    while width < n:\n",
    "\n",
    "        i : int = 0\n",
    "        while i < n :\n",
    "\n",
    "            j = i\n",
    "            l = i\n",
    "            r = i + width\n",
    "\n",
    "            lMax = min(l+width, n)\n",
    "            rMax = min(r+width, n)\n",
    "\n",
    "            while l < lMax and r < rMax:\n",
    "                if isOrderBefore(z[d][j], z[d][r]):\n",
    "                    z[1-d][j] = z[d][l]\n",
    "                    l += 1\n",
    "                else:\n",
    "                    z[1-d][j] = z[d][r]\n",
    "                    r += 1\n",
    "                    inflection += 1\n",
    "                j += 1\n",
    "            while l < lMax:\n",
    "                z[1-d][j] = z[d][l]\n",
    "                j += 1\n",
    "                l += 1\n",
    "            while r < rMax:\n",
    "                z[1-d][j] = z[d][r]\n",
    "                j += 1\n",
    "                r += 1\n",
    "            i += width * 2\n",
    "        width *= 2\n",
    "        d = 1-d\n",
    "    return z[d]"
   ]
  },
  {
   "cell_type": "code",
   "execution_count": 285,
   "metadata": {},
   "outputs": [],
   "source": [
    "def isOrderedBefore(x: int, y: int) -> bool:\n",
    "    return x < y"
   ]
  },
  {
   "cell_type": "code",
   "execution_count": 286,
   "metadata": {},
   "outputs": [
    {
     "data": {
      "text/plain": [
       "[1, 3, 1, 3, 5]"
      ]
     },
     "execution_count": 286,
     "metadata": {},
     "output_type": "execute_result"
    }
   ],
   "source": [
    "mergeSortBottomUp([2, 4, 1, 3, 5], isOrderedBefore)"
   ]
  },
  {
   "cell_type": "markdown",
   "metadata": {},
   "source": [
    "## Graph"
   ]
  },
  {
   "cell_type": "markdown",
   "metadata": {},
   "source": [
    "### Detect An Undirected Graph Cycle"
   ]
  },
  {
   "cell_type": "code",
   "execution_count": 147,
   "metadata": {},
   "outputs": [],
   "source": [
    "from typing import List\n",
    "# Definition for a Node.\n",
    "class Node:\n",
    "    def __init__(self, val = 0, neighbors : List['Node'] = None):\n",
    "        self.val = val\n",
    "        self.neighbors = neighbors if neighbors is not None else []"
   ]
  },
  {
   "cell_type": "code",
   "execution_count": 148,
   "metadata": {},
   "outputs": [],
   "source": [
    "from typing import List\n",
    "from collections import defaultdict\n",
    "\n",
    "class Graph:\n",
    "    def __init__(self, num_of_nodes: int):\n",
    "        self.adjacencyList = defaultdict(list)\n",
    "        self.visited = [False] * num_of_nodes\n",
    "        self.parent = [None] * num_of_nodes\n",
    "        self.hasCycle = False\n",
    "    \n",
    "    def addEdge (self, src: int, dst: int, bidirectional: bool):\n",
    "        self.adjacencyList[src].append(dst)\n",
    "\n",
    "        if bidirectional:\n",
    "            self.adjacencyList[dst].append(src)\n",
    "    \n",
    "    def detectCycle (self, src: int):\n",
    "\n",
    "        self.visited[src] = True\n",
    "\n",
    "        for node in self.adjacencyList[src]:\n",
    "            if not self.visited[node]:\n",
    "                self.parent[node] = src\n",
    "                self.detectCycle(node)\n",
    "            elif self.parent[src] != node:\n",
    "                self.hasCycle = True\n",
    "                return\n",
    "\n",
    "    def HasCycle(self) -> bool:\n",
    "        return self.hasCycle"
   ]
  },
  {
   "cell_type": "code",
   "execution_count": 161,
   "metadata": {},
   "outputs": [
    {
     "name": "stdout",
     "output_type": "stream",
     "text": [
      "False\n",
      "True\n"
     ]
    }
   ],
   "source": [
    "from typing import List, Tuple\n",
    "\n",
    "graph_1 : Graph = Graph(7)\n",
    "\n",
    "edges_1: List[Tuple[List[int], bool]] = [\n",
    "    ([0,1], True), \n",
    "    ([0,2], True), \n",
    "    ([2,3], True), \n",
    "    ([2,4], True), \n",
    "    ([4,5], True), \n",
    "    ([4,6], True)\n",
    "]\n",
    "\n",
    "for edge in edges_1:\n",
    "    graph_1.addEdge(edge[0][0], edge[0][1], edge[1])\n",
    "\n",
    "graph_2 : Graph = Graph(4)\n",
    "\n",
    "edges_2: List[Tuple[List[int], bool]] = [\n",
    "    ([0,1], True), \n",
    "    ([0,2], True), \n",
    "    ([1,3], True), \n",
    "    ([2,3], True), \n",
    "]\n",
    "\n",
    "for edge in edges_2:\n",
    "    graph_2.addEdge(edge[0][0], edge[0][1], edge[1])\n",
    "\n",
    "graph_1.detectCycle(0)\n",
    "print(graph_1.HasCycle())\n",
    "graph_2.detectCycle(0)\n",
    "print(graph_2.HasCycle())"
   ]
  },
  {
   "cell_type": "markdown",
   "metadata": {},
   "source": [
    "## String"
   ]
  },
  {
   "cell_type": "markdown",
   "metadata": {},
   "source": [
    "### [Valid Palindrome](https://leetcode.com/problems/valid-palindrome/)"
   ]
  },
  {
   "cell_type": "code",
   "execution_count": 137,
   "metadata": {},
   "outputs": [],
   "source": [
    "import re, string\n",
    "def isPalindrome(s: str) -> bool:\n",
    "    # one character strings are palindromes\n",
    "    if len(s) == 1: return True\n",
    "\n",
    "    # strip string of any non-alphanumeric characters\n",
    "    pattern = re.compile('[\\W_]+')\n",
    "    s = pattern.sub('', s)\n",
    "    # make sure all characters in the string is lowercase\n",
    "    s = s.lower()\n",
    "    # pointers to compare each charactrer in string \n",
    "    left, right = 0, len(s) - 1\n",
    "\n",
    "    while left < right:\n",
    "        if s[left] != s[right]:\n",
    "            return False\n",
    "        left += 1\n",
    "        right -= 1\n",
    "    return True"
   ]
  },
  {
   "cell_type": "code",
   "execution_count": 138,
   "metadata": {},
   "outputs": [
    {
     "data": {
      "text/plain": [
       "True"
      ]
     },
     "execution_count": 138,
     "metadata": {},
     "output_type": "execute_result"
    }
   ],
   "source": [
    "isPalindrome(\" \")"
   ]
  },
  {
   "cell_type": "markdown",
   "metadata": {},
   "source": [
    "## Linked List"
   ]
  },
  {
   "cell_type": "code",
   "execution_count": null,
   "metadata": {},
   "outputs": [],
   "source": [
    "# Definition for singly-linked list.\n",
    "class ListNode:\n",
    "    def __init__(self, x):\n",
    "        self.val = x\n",
    "        self.next = None"
   ]
  },
  {
   "cell_type": "markdown",
   "metadata": {},
   "source": [
    "### [Detect Cycle in a Linked List](https://leetcode.com/problems/linked-list-cycle/)"
   ]
  },
  {
   "cell_type": "code",
   "execution_count": null,
   "metadata": {},
   "outputs": [],
   "source": [
    "from typing import Optional\n",
    "def hasCycle(head: Optional[ListNode]) -> bool:\n",
    "        \n",
    "        if head is None:\n",
    "            return False\n",
    "    \n",
    "        if head.next is None:\n",
    "            return False\n",
    "        \n",
    "        slow : ListNode = head\n",
    "        fast : ListNode = head.next\n",
    "            \n",
    "        while fast is not None and fast.next is not None:\n",
    "            slow = slow.next\n",
    "            fast = fast.next.next\n",
    "            \n",
    "            if slow == fast:\n",
    "                return True\n",
    "            \n",
    "        return False"
   ]
  },
  {
   "cell_type": "code",
   "execution_count": null,
   "metadata": {},
   "outputs": [],
   "source": [
    " "
   ]
  },
  {
   "cell_type": "markdown",
   "metadata": {},
   "source": [
    "### [Reverse Linked List](https://leetcode.com/problems/reverse-linked-list/)"
   ]
  },
  {
   "cell_type": "markdown",
   "metadata": {},
   "source": [
    "#### Iterative"
   ]
  },
  {
   "cell_type": "code",
   "execution_count": null,
   "metadata": {},
   "outputs": [],
   "source": [
    "from typing import Optional\n",
    "def reverseList(head: Optional[ListNode]) -> Optional[ListNode]:\n",
    "        if head is None:\n",
    "            return None\n",
    "        if head.next is None:\n",
    "            return head\n",
    "            \n",
    "        pointer_1 :  Optional[ListNode] = None\n",
    "        pointer_2 : ListNode = head\n",
    "        \n",
    "        while pointer_2 is not None:\n",
    "            temp = pointer_2.next\n",
    "            pointer_2.next = pointer_1\n",
    "            pointer_1 = pointer_2\n",
    "            pointer_2 = temp\n",
    "        \n",
    "        return pointer_1"
   ]
  },
  {
   "cell_type": "markdown",
   "metadata": {},
   "source": [
    "#### Recursive"
   ]
  },
  {
   "cell_type": "code",
   "execution_count": null,
   "metadata": {},
   "outputs": [],
   "source": [
    "from typing import Optional\n",
    "def reverseList(head: Optional[ListNode]) -> Optional[ListNode]:\n",
    "        if (head is None or head.next is None): return head\n",
    "        p : ListNode  = reverseList(head.next)\n",
    "        head.next.next = head\n",
    "        head.next = None\n",
    "        return p"
   ]
  }
 ],
 "metadata": {
  "interpreter": {
   "hash": "b45207dd8e938df2ba764d1544e3833b2c9633720a8e555d85e4f8585453fabe"
  },
  "kernelspec": {
   "display_name": "Python 3.7.3 ('base')",
   "language": "python",
   "name": "python3"
  },
  "language_info": {
   "codemirror_mode": {
    "name": "ipython",
    "version": 3
   },
   "file_extension": ".py",
   "mimetype": "text/x-python",
   "name": "python",
   "nbconvert_exporter": "python",
   "pygments_lexer": "ipython3",
   "version": "3.7.3"
  },
  "orig_nbformat": 4
 },
 "nbformat": 4,
 "nbformat_minor": 2
}
